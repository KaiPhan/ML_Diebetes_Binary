{
 "cells": [
  {
   "cell_type": "markdown",
   "metadata": {
    "button": false,
    "id": "SzPE54CYM1kJ",
    "new_sheet": false,
    "run_control": {
     "read_only": false
    }
   },
   "source": [
    "<h1 align=center><font size = 10> Classification with Python</font></h1>"
   ]
  },
  {
   "cell_type": "markdown",
   "metadata": {
    "button": false,
    "id": "XPfbiVLfM1kK",
    "new_sheet": false,
    "run_control": {
     "read_only": false
    }
   },
   "source": [
    "In this notebook, we try to practice all the classification algorithms that we have learned in this course.\n",
    "\n",
    "We load a dataset using the Pandas library, and apply the following algorithms, and find the best one for this specific dataset by accuracy evaluation methods.\n",
    "\n",
    "Lets first load required libraries:"
   ]
  },
  {
   "cell_type": "code",
   "execution_count": 1,
   "metadata": {
    "button": false,
    "id": "vcBmcLcqM1kL",
    "new_sheet": false,
    "run_control": {
     "read_only": false
    }
   },
   "outputs": [],
   "source": [
    "import matplotlib.pyplot as plt\n",
    "from matplotlib.ticker import NullFormatter\n",
    "import pandas as pd\n",
    "import numpy as np\n",
    "import matplotlib.ticker as ticker\n",
    "from sklearn import preprocessing\n",
    "%matplotlib inline\n",
    "%matplotlib inline"
   ]
  },
  {
   "cell_type": "markdown",
   "metadata": {
    "id": "PKehb7okM1kN"
   },
   "source": [
    "# Mandatory part (85%  of the total score)"
   ]
  },
  {
   "cell_type": "markdown",
   "metadata": {
    "id": "1OXuDMKku37m"
   },
   "source": []
  },
  {
   "cell_type": "markdown",
   "metadata": {
    "button": false,
    "id": "ZAL75IefM1kO",
    "new_sheet": false,
    "run_control": {
     "read_only": false
    }
   },
   "source": [
    "## About dataset"
   ]
  },
  {
   "cell_type": "markdown",
   "metadata": {
    "button": false,
    "id": "yrPdRO--M1kO",
    "new_sheet": false,
    "run_control": {
     "read_only": false
    }
   },
   "source": [
    "The Pima is a group of Native Americans living in Arizona. A genetic predisposition allowed this group to survive normally to a diet poor of carbohydrates for years. In recent years, a sudden shift from traditional agricultural crops to processed foods, together with a decline in physical activity, has made them develop the highest prevalence of type 2 diabetes and for this reason, they have been subject of many studies.\n",
    "\n",
    "The dataset includes data from 768 women with 8 characteristics, in particular:\n",
    "\n",
    "- Number of times pregnant\n",
    "- Plasma glucose concentration a 2 hours in an oral glucose tolerance test\n",
    "- Diastolic blood pressure (mm Hg)\n",
    "- Triceps skinfold thickness (mm)\n",
    "- 2-Hour serum insulin (mu U/ml)\n",
    "- Body mass index (weight in kg/(height in m)^2)\n",
    "- Diabetes pedigree function\n",
    "- Age (years)\n",
    "- The last column of the dataset indicates if the person has been diagnosed with diabetes (1) or not (0)"
   ]
  },
  {
   "cell_type": "markdown",
   "metadata": {
    "id": "dzJFrqwyM1kP"
   },
   "source": [
    "## The problem:"
   ]
  },
  {
   "cell_type": "markdown",
   "metadata": {
    "id": "WFl47FBcM1kQ"
   },
   "source": [
    "The type of dataset and problem is a classic supervised binary classification. Given a number of elements with certain characteristics (features), we want to build a machine learning model to identify people affected by type 2 diabetes.\n",
    "\n",
    "To solve the problem we will have to analyze the data, do any required transformation and nomarlization, apply a machine learning algorithm, train a model, check the performance of the trained model and iterate with other algorithms until we find the most performant for our type of dataset."
   ]
  },
  {
   "cell_type": "markdown",
   "metadata": {
    "button": false,
    "id": "Diy5tSZ7M1kQ",
    "new_sheet": false,
    "run_control": {
     "read_only": false
    }
   },
   "source": [
    "## Load Data From CSV File  "
   ]
  },
  {
   "cell_type": "markdown",
   "metadata": {
    "id": "qdIctwmZM1kR"
   },
   "source": [
    "### 1. Load the dataset from the 'pima-indians-diabetes.csv' file.\n",
    "\n",
    "Because the CSV doesn't contain any header, we add column names using the description from the original dataset website:\n",
    "\n",
    "dataset.columns = [\"NumTimesPrg\", \"PlGlcConc\", \"BloodP\", \"SkinThick\", \"TwoHourSerIns\", \"BMI\", \"DiPedFunc\", \"Age\", \"HasDiabetes\"]"
   ]
  },
  {
   "cell_type": "code",
   "execution_count": 2,
   "metadata": {
    "button": false,
    "id": "K-TmhZ8vM1kS",
    "new_sheet": false,
    "run_control": {
     "read_only": false
    }
   },
   "outputs": [
    {
     "data": {
      "text/html": [
       "<div>\n",
       "<style scoped>\n",
       "    .dataframe tbody tr th:only-of-type {\n",
       "        vertical-align: middle;\n",
       "    }\n",
       "\n",
       "    .dataframe tbody tr th {\n",
       "        vertical-align: top;\n",
       "    }\n",
       "\n",
       "    .dataframe thead th {\n",
       "        text-align: right;\n",
       "    }\n",
       "</style>\n",
       "<table border=\"1\" class=\"dataframe\">\n",
       "  <thead>\n",
       "    <tr style=\"text-align: right;\">\n",
       "      <th></th>\n",
       "      <th>NumTimesPrg</th>\n",
       "      <th>PlGlcConc</th>\n",
       "      <th>BloodP</th>\n",
       "      <th>SkinThick</th>\n",
       "      <th>TwoHourSerIns</th>\n",
       "      <th>BMI</th>\n",
       "      <th>DiPedFunc</th>\n",
       "      <th>Age</th>\n",
       "      <th>HasDiabetes</th>\n",
       "    </tr>\n",
       "  </thead>\n",
       "  <tbody>\n",
       "    <tr>\n",
       "      <th>0</th>\n",
       "      <td>6</td>\n",
       "      <td>148</td>\n",
       "      <td>72</td>\n",
       "      <td>35</td>\n",
       "      <td>0</td>\n",
       "      <td>33.6</td>\n",
       "      <td>0.627</td>\n",
       "      <td>50</td>\n",
       "      <td>1</td>\n",
       "    </tr>\n",
       "    <tr>\n",
       "      <th>1</th>\n",
       "      <td>1</td>\n",
       "      <td>85</td>\n",
       "      <td>66</td>\n",
       "      <td>29</td>\n",
       "      <td>0</td>\n",
       "      <td>26.6</td>\n",
       "      <td>0.351</td>\n",
       "      <td>31</td>\n",
       "      <td>0</td>\n",
       "    </tr>\n",
       "    <tr>\n",
       "      <th>2</th>\n",
       "      <td>8</td>\n",
       "      <td>183</td>\n",
       "      <td>64</td>\n",
       "      <td>0</td>\n",
       "      <td>0</td>\n",
       "      <td>23.3</td>\n",
       "      <td>0.672</td>\n",
       "      <td>32</td>\n",
       "      <td>1</td>\n",
       "    </tr>\n",
       "    <tr>\n",
       "      <th>3</th>\n",
       "      <td>1</td>\n",
       "      <td>89</td>\n",
       "      <td>66</td>\n",
       "      <td>23</td>\n",
       "      <td>94</td>\n",
       "      <td>28.1</td>\n",
       "      <td>0.167</td>\n",
       "      <td>21</td>\n",
       "      <td>0</td>\n",
       "    </tr>\n",
       "    <tr>\n",
       "      <th>4</th>\n",
       "      <td>0</td>\n",
       "      <td>137</td>\n",
       "      <td>40</td>\n",
       "      <td>35</td>\n",
       "      <td>168</td>\n",
       "      <td>43.1</td>\n",
       "      <td>2.288</td>\n",
       "      <td>33</td>\n",
       "      <td>1</td>\n",
       "    </tr>\n",
       "  </tbody>\n",
       "</table>\n",
       "</div>"
      ],
      "text/plain": [
       "   NumTimesPrg  PlGlcConc  BloodP  SkinThick  TwoHourSerIns   BMI  DiPedFunc  \\\n",
       "0            6        148      72         35              0  33.6      0.627   \n",
       "1            1         85      66         29              0  26.6      0.351   \n",
       "2            8        183      64          0              0  23.3      0.672   \n",
       "3            1         89      66         23             94  28.1      0.167   \n",
       "4            0        137      40         35            168  43.1      2.288   \n",
       "\n",
       "   Age  HasDiabetes  \n",
       "0   50            1  \n",
       "1   31            0  \n",
       "2   32            1  \n",
       "3   21            0  \n",
       "4   33            1  "
      ]
     },
     "execution_count": 2,
     "metadata": {},
     "output_type": "execute_result"
    }
   ],
   "source": [
    "#TO DO:\n",
    "dataset = pd.read_csv('D:/Data Science/Funix/ML with Py/ASM_2/resource/pima-indians-diabetes.csv', header = None)\n",
    "dataset.columns = [\"NumTimesPrg\", \"PlGlcConc\", \"BloodP\", \"SkinThick\", \"TwoHourSerIns\", \"BMI\", \"DiPedFunc\", \"Age\", \"HasDiabetes\"]\n",
    "dataset.head()"
   ]
  },
  {
   "cell_type": "markdown",
   "metadata": {
    "button": false,
    "id": "AmBhwo0DM1kU",
    "new_sheet": false,
    "run_control": {
     "read_only": false
    }
   },
   "source": [
    "## Inspect the Dataset"
   ]
  },
  {
   "cell_type": "markdown",
   "metadata": {
    "id": "_HlgbaIQM1kU"
   },
   "source": [
    "### 2. Print out the shape of the dataset: we have 768 rows and 9 columns. Then, print out the head of the dataset to better understand the data format.\n",
    "\n",
    "The first 8 columns are features while the last one is the supervised label (1 = has diabetes, 0 = no diabetes)"
   ]
  },
  {
   "cell_type": "code",
   "execution_count": 3,
   "metadata": {
    "button": false,
    "id": "bpyxtYzcM1kV",
    "new_sheet": false,
    "outputId": "4d857f7e-842e-4fb7-ec21-354ac3756be7",
    "run_control": {
     "read_only": false
    }
   },
   "outputs": [
    {
     "data": {
      "text/plain": [
       "(768, 9)"
      ]
     },
     "execution_count": 3,
     "metadata": {},
     "output_type": "execute_result"
    }
   ],
   "source": [
    "#TO DO:\n",
    "dataset.shape"
   ]
  },
  {
   "cell_type": "markdown",
   "metadata": {
    "button": false,
    "id": "a02T2r1XM1kY",
    "new_sheet": false,
    "run_control": {
     "read_only": false
    }
   },
   "source": [
    "# Data visualization and pre-processing\n",
    "\n"
   ]
  },
  {
   "cell_type": "markdown",
   "metadata": {
    "button": false,
    "id": "WyisS4NVM1kZ",
    "new_sheet": false,
    "run_control": {
     "read_only": false
    }
   },
   "source": [
    "## Data correlation matrix\n",
    "### 3. Let's calculate the correlation matrix for our dataset.\n",
    "\n",
    "The correlation matrix is an important tool to understand the correlation between the different characteristics. The values range from -1 to 1 and the closer a value is to 1 the better correlation there is between two characteristics. "
   ]
  },
  {
   "cell_type": "code",
   "execution_count": 4,
   "metadata": {
    "button": false,
    "id": "vymkxfN8M1kZ",
    "new_sheet": false,
    "outputId": "7e458e60-772c-4d79-d71d-a5692a1a0dc6",
    "run_control": {
     "read_only": false
    }
   },
   "outputs": [
    {
     "data": {
      "text/html": [
       "<div>\n",
       "<style scoped>\n",
       "    .dataframe tbody tr th:only-of-type {\n",
       "        vertical-align: middle;\n",
       "    }\n",
       "\n",
       "    .dataframe tbody tr th {\n",
       "        vertical-align: top;\n",
       "    }\n",
       "\n",
       "    .dataframe thead th {\n",
       "        text-align: right;\n",
       "    }\n",
       "</style>\n",
       "<table border=\"1\" class=\"dataframe\">\n",
       "  <thead>\n",
       "    <tr style=\"text-align: right;\">\n",
       "      <th></th>\n",
       "      <th>NumTimesPrg</th>\n",
       "      <th>PlGlcConc</th>\n",
       "      <th>BloodP</th>\n",
       "      <th>SkinThick</th>\n",
       "      <th>TwoHourSerIns</th>\n",
       "      <th>BMI</th>\n",
       "      <th>DiPedFunc</th>\n",
       "      <th>Age</th>\n",
       "      <th>HasDiabetes</th>\n",
       "    </tr>\n",
       "  </thead>\n",
       "  <tbody>\n",
       "    <tr>\n",
       "      <th>NumTimesPrg</th>\n",
       "      <td>1.000000</td>\n",
       "      <td>0.129459</td>\n",
       "      <td>0.141282</td>\n",
       "      <td>-0.081672</td>\n",
       "      <td>-0.073535</td>\n",
       "      <td>0.017683</td>\n",
       "      <td>-0.033523</td>\n",
       "      <td>0.544341</td>\n",
       "      <td>0.221898</td>\n",
       "    </tr>\n",
       "    <tr>\n",
       "      <th>PlGlcConc</th>\n",
       "      <td>0.129459</td>\n",
       "      <td>1.000000</td>\n",
       "      <td>0.152590</td>\n",
       "      <td>0.057328</td>\n",
       "      <td>0.331357</td>\n",
       "      <td>0.221071</td>\n",
       "      <td>0.137337</td>\n",
       "      <td>0.263514</td>\n",
       "      <td>0.466581</td>\n",
       "    </tr>\n",
       "    <tr>\n",
       "      <th>BloodP</th>\n",
       "      <td>0.141282</td>\n",
       "      <td>0.152590</td>\n",
       "      <td>1.000000</td>\n",
       "      <td>0.207371</td>\n",
       "      <td>0.088933</td>\n",
       "      <td>0.281805</td>\n",
       "      <td>0.041265</td>\n",
       "      <td>0.239528</td>\n",
       "      <td>0.065068</td>\n",
       "    </tr>\n",
       "    <tr>\n",
       "      <th>SkinThick</th>\n",
       "      <td>-0.081672</td>\n",
       "      <td>0.057328</td>\n",
       "      <td>0.207371</td>\n",
       "      <td>1.000000</td>\n",
       "      <td>0.436783</td>\n",
       "      <td>0.392573</td>\n",
       "      <td>0.183928</td>\n",
       "      <td>-0.113970</td>\n",
       "      <td>0.074752</td>\n",
       "    </tr>\n",
       "    <tr>\n",
       "      <th>TwoHourSerIns</th>\n",
       "      <td>-0.073535</td>\n",
       "      <td>0.331357</td>\n",
       "      <td>0.088933</td>\n",
       "      <td>0.436783</td>\n",
       "      <td>1.000000</td>\n",
       "      <td>0.197859</td>\n",
       "      <td>0.185071</td>\n",
       "      <td>-0.042163</td>\n",
       "      <td>0.130548</td>\n",
       "    </tr>\n",
       "    <tr>\n",
       "      <th>BMI</th>\n",
       "      <td>0.017683</td>\n",
       "      <td>0.221071</td>\n",
       "      <td>0.281805</td>\n",
       "      <td>0.392573</td>\n",
       "      <td>0.197859</td>\n",
       "      <td>1.000000</td>\n",
       "      <td>0.140647</td>\n",
       "      <td>0.036242</td>\n",
       "      <td>0.292695</td>\n",
       "    </tr>\n",
       "    <tr>\n",
       "      <th>DiPedFunc</th>\n",
       "      <td>-0.033523</td>\n",
       "      <td>0.137337</td>\n",
       "      <td>0.041265</td>\n",
       "      <td>0.183928</td>\n",
       "      <td>0.185071</td>\n",
       "      <td>0.140647</td>\n",
       "      <td>1.000000</td>\n",
       "      <td>0.033561</td>\n",
       "      <td>0.173844</td>\n",
       "    </tr>\n",
       "    <tr>\n",
       "      <th>Age</th>\n",
       "      <td>0.544341</td>\n",
       "      <td>0.263514</td>\n",
       "      <td>0.239528</td>\n",
       "      <td>-0.113970</td>\n",
       "      <td>-0.042163</td>\n",
       "      <td>0.036242</td>\n",
       "      <td>0.033561</td>\n",
       "      <td>1.000000</td>\n",
       "      <td>0.238356</td>\n",
       "    </tr>\n",
       "    <tr>\n",
       "      <th>HasDiabetes</th>\n",
       "      <td>0.221898</td>\n",
       "      <td>0.466581</td>\n",
       "      <td>0.065068</td>\n",
       "      <td>0.074752</td>\n",
       "      <td>0.130548</td>\n",
       "      <td>0.292695</td>\n",
       "      <td>0.173844</td>\n",
       "      <td>0.238356</td>\n",
       "      <td>1.000000</td>\n",
       "    </tr>\n",
       "  </tbody>\n",
       "</table>\n",
       "</div>"
      ],
      "text/plain": [
       "               NumTimesPrg  PlGlcConc    BloodP  SkinThick  TwoHourSerIns  \\\n",
       "NumTimesPrg       1.000000   0.129459  0.141282  -0.081672      -0.073535   \n",
       "PlGlcConc         0.129459   1.000000  0.152590   0.057328       0.331357   \n",
       "BloodP            0.141282   0.152590  1.000000   0.207371       0.088933   \n",
       "SkinThick        -0.081672   0.057328  0.207371   1.000000       0.436783   \n",
       "TwoHourSerIns    -0.073535   0.331357  0.088933   0.436783       1.000000   \n",
       "BMI               0.017683   0.221071  0.281805   0.392573       0.197859   \n",
       "DiPedFunc        -0.033523   0.137337  0.041265   0.183928       0.185071   \n",
       "Age               0.544341   0.263514  0.239528  -0.113970      -0.042163   \n",
       "HasDiabetes       0.221898   0.466581  0.065068   0.074752       0.130548   \n",
       "\n",
       "                    BMI  DiPedFunc       Age  HasDiabetes  \n",
       "NumTimesPrg    0.017683  -0.033523  0.544341     0.221898  \n",
       "PlGlcConc      0.221071   0.137337  0.263514     0.466581  \n",
       "BloodP         0.281805   0.041265  0.239528     0.065068  \n",
       "SkinThick      0.392573   0.183928 -0.113970     0.074752  \n",
       "TwoHourSerIns  0.197859   0.185071 -0.042163     0.130548  \n",
       "BMI            1.000000   0.140647  0.036242     0.292695  \n",
       "DiPedFunc      0.140647   1.000000  0.033561     0.173844  \n",
       "Age            0.036242   0.033561  1.000000     0.238356  \n",
       "HasDiabetes    0.292695   0.173844  0.238356     1.000000  "
      ]
     },
     "execution_count": 4,
     "metadata": {},
     "output_type": "execute_result"
    }
   ],
   "source": [
    "#TO DO:\n",
    "corr = dataset.corr()\n",
    "corr"
   ]
  },
  {
   "cell_type": "markdown",
   "metadata": {
    "id": "Q0YpKuUBM1kb"
   },
   "source": [
    "### 4. Render the corr matrix using the heatmap in seaborn."
   ]
  },
  {
   "cell_type": "code",
   "execution_count": 5,
   "metadata": {
    "id": "ll0POqtIM1kc",
    "outputId": "99b49b55-941d-47dc-b62d-26521240524e"
   },
   "outputs": [
    {
     "data": {
      "text/plain": [
       "<AxesSubplot:>"
      ]
     },
     "execution_count": 5,
     "metadata": {},
     "output_type": "execute_result"
    },
    {
     "data": {
      "image/png": "[encoded data removed]",
      "text/plain": [
       "<Figure size 432x288 with 2 Axes>"
      ]
     },
     "metadata": {
      "needs_background": "light"
     },
     "output_type": "display_data"
    }
   ],
   "source": [
    "#TO DO:\n",
    "%matplotlib inline\n",
    "import seaborn as sns\n",
    "sns.heatmap(corr, annot = True)"
   ]
  },
  {
   "cell_type": "markdown",
   "metadata": {
    "id": "r7DgicVOM1ke"
   },
   "source": [
    "### 5. Print out the column which has the biggest corr number with 'HasDiabetes'."
   ]
  },
  {
   "cell_type": "code",
   "execution_count": 6,
   "metadata": {
    "id": "DoZkwj3oM1ke",
    "outputId": "a4b2510e-9502-42d7-8efb-c6916cd5dea2"
   },
   "outputs": [
    {
     "data": {
      "text/plain": [
       "0      148\n",
       "1       85\n",
       "2      183\n",
       "3       89\n",
       "4      137\n",
       "      ... \n",
       "763    101\n",
       "764    122\n",
       "765    121\n",
       "766    126\n",
       "767     93\n",
       "Name: PlGlcConc, Length: 768, dtype: int64"
      ]
     },
     "execution_count": 6,
     "metadata": {},
     "output_type": "execute_result"
    }
   ],
   "source": [
    "dataset['PlGlcConc']"
   ]
  },
  {
   "cell_type": "markdown",
   "metadata": {
    "id": "gZ5Msu8UM1kg"
   },
   "source": [
    "## Visualize the Dataset\n",
    "Visualizing the data is an important step of the data analysis. With a graphical visualization of the data, we have a better understanding of the various features values distribution: for example, we can understand the average age of the people or the average BMI, etc...\n",
    "\n",
    "We could, of course, limit our inspection to the table visualization, but we could miss important things that may affect our model precision.\n",
    "### 6. Manipulate histogram to represent all data columns in the dataset."
   ]
  },
  {
   "cell_type": "code",
   "execution_count": 7,
   "metadata": {
    "id": "JC3CILgxM1kh",
    "outputId": "27498265-42ad-42be-a9bd-49094a9b6cb5"
   },
   "outputs": [
    {
     "data": {
      "image/png": "[encoded data removed]",
      "text/plain": [
       "<Figure size 1440x1080 with 9 Axes>"
      ]
     },
     "metadata": {
      "needs_background": "light"
     },
     "output_type": "display_data"
    }
   ],
   "source": [
    "#TO DO:\n",
    "import matplotlib.pyplot as plt\n",
    "dataset.hist(bins=50, figsize=(20, 15))\n",
    "plt.show()"
   ]
  },
  {
   "cell_type": "markdown",
   "metadata": {
    "button": false,
    "id": "VYSkabikM1kj",
    "new_sheet": false,
    "run_control": {
     "read_only": false
    }
   },
   "source": [
    "An important thing I notice in the dataset (and that wasn't obvious at the beginning) is the fact that some people have null (zero) values for some of the features: it's not quite possible to have 0 for BMI or the blood pressure.\n",
    "\n",
    "How can we deal with similar values? We will see it later during the data transformation phase."
   ]
  },
  {
   "cell_type": "markdown",
   "metadata": {
    "button": false,
    "id": "si5Fgks4M1kj",
    "new_sheet": false,
    "run_control": {
     "read_only": false
    }
   },
   "source": [
    "## Data cleaning and transformation"
   ]
  },
  {
   "cell_type": "markdown",
   "metadata": {
    "button": false,
    "id": "ZDAqJwOaM1kk",
    "new_sheet": false,
    "run_control": {
     "read_only": false
    }
   },
   "source": [
    "We have noticed from the previous analysis that some patients have missing data for some of the features. Machine learning algorithms don't work very well when the data are missing so we have to find a solution to \"clean\" the data we have.\n",
    "\n",
    "The easiest option could be to eliminate all those patients with null/zero values, but in this way, we would eliminate a lot of important data.\n",
    "\n",
    "Another option is to calculate the median value for a specific column and substitute that value everywhere (in the same column) we have zero or null. Let's see how to apply this second method.\n",
    "\n",
    "### 7. Interpolate missing values on ['BMI', 'BloodP', 'PlGlcConc', 'SkinThick',  'TwoHourSerIns'] using median values or any other way which is effective.\n",
    "\n",
    "We haven't transformed all the columns, because of some values which can make sense to be zero (like \"Number of times pregnant\")."
   ]
  },
  {
   "cell_type": "code",
   "execution_count": 8,
   "metadata": {
    "button": false,
    "id": "ccZyY2RbM1kk",
    "new_sheet": false,
    "run_control": {
     "read_only": false
    }
   },
   "outputs": [
    {
     "data": {
      "text/html": [
       "<div>\n",
       "<style scoped>\n",
       "    .dataframe tbody tr th:only-of-type {\n",
       "        vertical-align: middle;\n",
       "    }\n",
       "\n",
       "    .dataframe tbody tr th {\n",
       "        vertical-align: top;\n",
       "    }\n",
       "\n",
       "    .dataframe thead th {\n",
       "        text-align: right;\n",
       "    }\n",
       "</style>\n",
       "<table border=\"1\" class=\"dataframe\">\n",
       "  <thead>\n",
       "    <tr style=\"text-align: right;\">\n",
       "      <th></th>\n",
       "      <th>NumTimesPrg</th>\n",
       "      <th>PlGlcConc</th>\n",
       "      <th>BloodP</th>\n",
       "      <th>SkinThick</th>\n",
       "      <th>TwoHourSerIns</th>\n",
       "      <th>BMI</th>\n",
       "      <th>DiPedFunc</th>\n",
       "      <th>Age</th>\n",
       "      <th>HasDiabetes</th>\n",
       "    </tr>\n",
       "  </thead>\n",
       "  <tbody>\n",
       "    <tr>\n",
       "      <th>0</th>\n",
       "      <td>6</td>\n",
       "      <td>148</td>\n",
       "      <td>72</td>\n",
       "      <td>35</td>\n",
       "      <td>30.5</td>\n",
       "      <td>33.6</td>\n",
       "      <td>0.627</td>\n",
       "      <td>50</td>\n",
       "      <td>1</td>\n",
       "    </tr>\n",
       "    <tr>\n",
       "      <th>1</th>\n",
       "      <td>1</td>\n",
       "      <td>85</td>\n",
       "      <td>66</td>\n",
       "      <td>29</td>\n",
       "      <td>30.5</td>\n",
       "      <td>26.6</td>\n",
       "      <td>0.351</td>\n",
       "      <td>31</td>\n",
       "      <td>0</td>\n",
       "    </tr>\n",
       "    <tr>\n",
       "      <th>2</th>\n",
       "      <td>8</td>\n",
       "      <td>183</td>\n",
       "      <td>64</td>\n",
       "      <td>0</td>\n",
       "      <td>30.5</td>\n",
       "      <td>23.3</td>\n",
       "      <td>0.672</td>\n",
       "      <td>32</td>\n",
       "      <td>1</td>\n",
       "    </tr>\n",
       "    <tr>\n",
       "      <th>3</th>\n",
       "      <td>1</td>\n",
       "      <td>89</td>\n",
       "      <td>66</td>\n",
       "      <td>23</td>\n",
       "      <td>94.0</td>\n",
       "      <td>28.1</td>\n",
       "      <td>0.167</td>\n",
       "      <td>21</td>\n",
       "      <td>0</td>\n",
       "    </tr>\n",
       "    <tr>\n",
       "      <th>4</th>\n",
       "      <td>0</td>\n",
       "      <td>137</td>\n",
       "      <td>40</td>\n",
       "      <td>35</td>\n",
       "      <td>168.0</td>\n",
       "      <td>43.1</td>\n",
       "      <td>2.288</td>\n",
       "      <td>33</td>\n",
       "      <td>1</td>\n",
       "    </tr>\n",
       "  </tbody>\n",
       "</table>\n",
       "</div>"
      ],
      "text/plain": [
       "   NumTimesPrg  PlGlcConc  BloodP  SkinThick  TwoHourSerIns   BMI  DiPedFunc  \\\n",
       "0            6        148      72         35           30.5  33.6      0.627   \n",
       "1            1         85      66         29           30.5  26.6      0.351   \n",
       "2            8        183      64          0           30.5  23.3      0.672   \n",
       "3            1         89      66         23           94.0  28.1      0.167   \n",
       "4            0        137      40         35          168.0  43.1      2.288   \n",
       "\n",
       "   Age  HasDiabetes  \n",
       "0   50            1  \n",
       "1   31            0  \n",
       "2   32            1  \n",
       "3   21            0  \n",
       "4   33            1  "
      ]
     },
     "execution_count": 8,
     "metadata": {},
     "output_type": "execute_result"
    }
   ],
   "source": [
    "#TO DO:\n",
    "# Calculate the median value for BMI\n",
    "median_bmi = dataset['BMI'].median()\n",
    "# Substitute it in the BMI column of the\n",
    "# dataset where values are 0\n",
    "dataset['BMI'] = dataset['BMI'].replace(\n",
    "    to_replace=0, value=median_bmi)\n",
    "\n",
    "# Calculate the median value for BloodP\n",
    "median_bloodp = dataset['BloodP'].median()\n",
    "# Substitute it in the BloodP column of the\n",
    "# dataset where values are 0\n",
    "dataset['BloodP'] = dataset['BloodP'].replace(\n",
    "    to_replace=0, value=median_bloodp)\n",
    "\n",
    "# Calculate the median value for PlGlcConc\n",
    "median_plglcconc = dataset['PlGlcConc'].median()\n",
    "# Substitute it in the PlGlcConc column of the\n",
    "# dataset where values are 0\n",
    "dataset['PlGlcConc'] = dataset['PlGlcConc'].replace(\n",
    "    to_replace=0, value=median_plglcconc)\n",
    "\n",
    "# Calculate the median value for TwoHourSerIns\n",
    "median_twohourserins = dataset['TwoHourSerIns'].median()\n",
    "# Substitute it in the TwoHourSerIns column of the\n",
    "# dataset where values are 0\n",
    "dataset['TwoHourSerIns'] = dataset['TwoHourSerIns'].replace(\n",
    "    to_replace=0, value=median_twohourserins)\n",
    "\n",
    "dataset.head()"
   ]
  },
  {
   "cell_type": "markdown",
   "metadata": {
    "id": "-8h0P-vLM1kl"
   },
   "source": [
    "## Normalize Data "
   ]
  },
  {
   "cell_type": "markdown",
   "metadata": {
    "id": "GNxKYsijM1km"
   },
   "source": [
    "One of the most important data transformations we need to apply is the features scaling. Basically, most of the machine learning algorithms don't work very well if the features have a different set of values. In our case, for example, the Age ranges from 20 to 80 years old, while the number of times a patient has been pregnant ranges from 0 to 17. For this reason, we need to apply a proper transformation.\n",
    "\n",
    "### 8. Execute Data Standardization using data zero mean and unit variance (don't forget to remove ground truth column before scaling)."
   ]
  },
  {
   "cell_type": "markdown",
   "metadata": {
    "id": "S22D1f6QM1km",
    "outputId": "c7e84367-72e5-444f-84b2-cbb3053753ee"
   },
   "source": [
    "#TO DO:\n",
    "from sklearn import preprocessing\n",
    "\n",
    "dataset_scaled = preprocessing.scale(dataset)\n",
    "print('Data Standardization using data zero mean:\\n ',dataset_scaled.mean(axis=0))\n",
    "print('Data Standardization using unit variance:\\n ',dataset_scaled.std(axis=0))\n"
   ]
  },
  {
   "cell_type": "code",
   "execution_count": 9,
   "metadata": {},
   "outputs": [
    {
     "data": {
      "text/plain": [
       "array([[0.35294118, 0.67096774, 0.48979592, 0.35353535, 0.01983173,\n",
       "        0.31492843, 0.23441503, 0.48333333],\n",
       "       [0.05882353, 0.26451613, 0.42857143, 0.29292929, 0.01983173,\n",
       "        0.17177914, 0.11656704, 0.16666667],\n",
       "       [0.47058824, 0.89677419, 0.40816327, 0.        , 0.01983173,\n",
       "        0.10429448, 0.25362938, 0.18333333],\n",
       "       [0.05882353, 0.29032258, 0.42857143, 0.23232323, 0.09615385,\n",
       "        0.20245399, 0.03800171, 0.        ],\n",
       "       [0.        , 0.6       , 0.16326531, 0.35353535, 0.18509615,\n",
       "        0.50920245, 0.94363792, 0.2       ]])"
      ]
     },
     "execution_count": 9,
     "metadata": {},
     "output_type": "execute_result"
    }
   ],
   "source": [
    "from sklearn.preprocessing import MinMaxScaler\n",
    "from sklearn import preprocessing\n",
    "\n",
    "normalize = preprocessing.MinMaxScaler()\n",
    "X = dataset.drop(columns='HasDiabetes')\n",
    "y = dataset['HasDiabetes']\n",
    "\n",
    "X = normalize.fit(X).transform(X)\n",
    "X[0:5]\n",
    "#scaling = MinMaxScaler(feature_range=(-1,1)).fit(X_train)\n",
    "#X_train = scaling.transform(X_train)\n",
    "#X_test = scaling.transform(X_test)"
   ]
  },
  {
   "cell_type": "markdown",
   "metadata": {
    "button": false,
    "id": "oOHQu_2rM1ko",
    "new_sheet": false,
    "run_control": {
     "read_only": false
    }
   },
   "source": [
    "# Splitting the Dataset"
   ]
  },
  {
   "cell_type": "markdown",
   "metadata": {
    "id": "luDui2xtM1ko"
   },
   "source": [
    "Now that we have transformed the data, we need to split the dataset into two parts: a training dataset and a test dataset. Splitting the dataset is a very important step for supervised machine learning models. Basically, we are going to use the first part to train the model (ignoring the column with the pre-assigned label), then we use the trained model to make predictions on new data (which is the test dataset, not part of the training set) and compare the predicted value with the pre-assigned label.\n",
    "\n",
    "### 9. Split the dataset into 80/20 using the stratified technique and random_state=7."
   ]
  },
  {
   "cell_type": "code",
   "execution_count": 10,
   "metadata": {
    "id": "Xfh4QK1oM1kp"
   },
   "outputs": [],
   "source": [
    "#TO DO:\n",
    "X = dataset.drop(columns='HasDiabetes')\n",
    "y = dataset['HasDiabetes']\n",
    "from sklearn.model_selection import train_test_split\n",
    "X_train, X_test, y_train, y_test = train_test_split(\n",
    "    X, y, test_size=0.2, random_state=7)"
   ]
  },
  {
   "cell_type": "markdown",
   "metadata": {
    "id": "Yk3Y6qVtM1kq"
   },
   "source": [
    "# Additional Question: \n",
    "### Why should we perform data normalization and data splitting before the training step?\n",
    "Type your answer in the cell bellow as the markdown format."
   ]
  },
  {
   "cell_type": "markdown",
   "metadata": {
    "id": "2yXSkeUjM1kr"
   },
   "source": [
    "### TO DO:\n"
   ]
  },
  {
   "cell_type": "markdown",
   "metadata": {
    "id": "6PaVBEAwM1ks"
   },
   "source": [
    "### 10. Print out the proportion of positive/total women who have diabetes on the full dataset, training dataset, and testing dataset."
   ]
  },
  {
   "cell_type": "code",
   "execution_count": 11,
   "metadata": {},
   "outputs": [
    {
     "name": "stdout",
     "output_type": "stream",
     "text": [
      "0.3489583333333333\n",
      "0.34364820846905536\n",
      "0.37012987012987014\n"
     ]
    }
   ],
   "source": [
    "print(dataset['HasDiabetes'][dataset['HasDiabetes']==1].count()/ dataset['HasDiabetes'].count())\n",
    "print(y_train[y_train==1].count()/y_train.count())\n",
    "print(y_test[y_test==1].count()/y_test.count())"
   ]
  },
  {
   "cell_type": "markdown",
   "metadata": {
    "button": false,
    "id": "KHXGaCazM1k0",
    "new_sheet": false,
    "run_control": {
     "read_only": false
    }
   },
   "source": [
    "# Classification "
   ]
  },
  {
   "cell_type": "markdown",
   "metadata": {
    "button": false,
    "id": "Q-NwUyDVM1k0",
    "new_sheet": false,
    "run_control": {
     "read_only": false
    }
   },
   "source": [
    "Now, it is your turn, use the training set to build an accurate model. Then use the test set to report the accuracy of the model.\n",
    "\n",
    "You should use the following algorithms:\n",
    "- K Nearest Neighbor(KNN)\n",
    "- Decision Tree\n",
    "- Support Vector Machine\n",
    "- Logistic Regression\n",
    "- Soft voting\n",
    "- Hard voting\n",
    "\n",
    "\n",
    "\n",
    "**__ Notes:__**\n",
    "\n",
    "- You must try to **FINE TUNE AT LEAST 3 PARAMETERS** on each algorithm, except on soft voting and hard voting.\n",
    "- You can go above and change the pre-processing, feature selection, feature extraction, and so on, to make a better model.\n",
    "- You should use either scikit-learn, Scipy or Numpy libraries for developing the classification algorithms.\n",
    "- You should include the code of the algorithm in the following cells."
   ]
  },
  {
   "cell_type": "markdown",
   "metadata": {
    "id": "c8HKeDu9M1k1"
   },
   "source": [
    "# Import Evaluation Metrices"
   ]
  },
  {
   "cell_type": "code",
   "execution_count": 12,
   "metadata": {
    "id": "sZrg6rrsM1k1"
   },
   "outputs": [],
   "source": [
    "from sklearn.metrics import jaccard_similarity_score, f1_score"
   ]
  },
  {
   "cell_type": "code",
   "execution_count": 13,
   "metadata": {
    "id": "TBXdCSP-M1k3"
   },
   "outputs": [],
   "source": [
    "# a dictionary for keeping all scores of the classifiers\n",
    "f1_scores = {'train':{'KNN': 0, 'DT': 0, 'SVM': 0, 'LR': 0, 'EN_HARD': 0, 'EN_SOFT': 0},\n",
    "             'test':{'KNN': 0, 'DT': 0, 'SVM': 0, 'LR': 0, 'EN_HARD': 0, 'EN_SOFT': 0}}\n",
    "jaccard_scores = {'train':{'KNN': 0, 'DT': 0, 'SVM': 0, 'LR': 0, 'EN_HARD': 0, 'EN_SOFT': 0}, \n",
    "                  'test':{'KNN': 0, 'DT': 0, 'SVM': 0, 'LR': 0, 'EN_HARD': 0, 'EN_SOFT': 0}}\n"
   ]
  },
  {
   "cell_type": "markdown",
   "metadata": {
    "id": "ntwqYDm7M1k6"
   },
   "source": [
    "# K Nearest Neighbor(KNN)\n",
    "### 11. Finetune at least 3 parameters to get the KNN model with best accuracy. Then, print out the KNN model's parameters with the best accuracy(best estimator).\n",
    "Hint: Using GridSearchCV in sklearn.model_selection.\n",
    "\n",
    "**Warning:** You should not use the test data for finding the best parameters."
   ]
  },
  {
   "cell_type": "code",
   "execution_count": 14,
   "metadata": {
    "id": "WpD6yCUlM1k7"
   },
   "outputs": [],
   "source": [
    "from sklearn.neighbors import KNeighborsClassifier\n",
    "from sklearn.model_selection import GridSearchCV"
   ]
  },
  {
   "cell_type": "code",
   "execution_count": 15,
   "metadata": {
    "id": "Xw2vbHFKM1k9"
   },
   "outputs": [
    {
     "name": "stdout",
     "output_type": "stream",
     "text": [
      "{'n_neighbors': 19, 'p': 1, 'weights': 'distance'}\n"
     ]
    }
   ],
   "source": [
    "#TO DO:\n",
    "knn = KNeighborsClassifier()\n",
    "params = {\n",
    "    \"n_neighbors\": list(range(3, 20, 2)),\n",
    "    \"weights\": [\"uniform\", \"distance\"],\n",
    "    \"p\": [1, 2]\n",
    "    \n",
    "}\n",
    "clf = GridSearchCV(estimator=knn,           \n",
    "                  param_grid=params, \n",
    "                  cv=5)\n",
    "clf.fit(X_train, y_train)\n",
    "\n",
    "print(clf.best_params_)\n"
   ]
  },
  {
   "cell_type": "markdown",
   "metadata": {
    "id": "QLvhv6JrM1lA"
   },
   "source": [
    "# Additional Question: \n",
    "### Interpret and explain the parameters you have chosen to fine tune in KNN algorithm.\n",
    "Type your answer in the cell bellow as markdown format."
   ]
  },
  {
   "cell_type": "markdown",
   "metadata": {
    "id": "qaJt1GeEM1lA"
   },
   "source": [
    "### TO DO:\n",
    "n_neighbors: Number of neighbors to use, if n_neighbors low -> overfitting, if high -> not neccessary\n",
    "\n",
    "weights: weight function used in prediction\n",
    "(‘uniform’ : uniform weights. All points in each neighborhood are weighted equally.\n",
    "‘distance’ : weight points by the inverse of their distance. in this case, closer neighbors of a query point will have a greater influence than neighbors which are further away.)\n",
    "\n",
    "p: p = 2 (euclidean_distance), p = 1 (manhattan_distance)\n"
   ]
  },
  {
   "cell_type": "markdown",
   "metadata": {
    "id": "GsPgXPEpM1lB"
   },
   "source": [
    "### 12. Run the prediction on KNN models on training data and test data, then calculate the f1 score and Jaccard similarity score and save it to f1_scores dict and jaccard_scores dict.  \n",
    "**Requirement**: F1 score on test data must be higher than **0.6**, Jaccard similarity score must be higher than **0.75**."
   ]
  },
  {
   "cell_type": "code",
   "execution_count": 16,
   "metadata": {},
   "outputs": [],
   "source": [
    "import warnings\n",
    "warnings.filterwarnings(\"ignore\")"
   ]
  },
  {
   "cell_type": "code",
   "execution_count": 17,
   "metadata": {
    "id": "GxclqWk1M1lB",
    "outputId": "2998eea4-278e-4570-9ba4-a219b812d0b4"
   },
   "outputs": [
    {
     "name": "stdout",
     "output_type": "stream",
     "text": [
      "f1_scores:  {'train': {'KNN': 1.0, 'DT': 0, 'SVM': 0, 'LR': 0, 'EN_HARD': 0, 'EN_SOFT': 0}, 'test': {'KNN': 0.6408, 'DT': 0, 'SVM': 0, 'LR': 0, 'EN_HARD': 0, 'EN_SOFT': 0}}\n",
      "\n",
      "\n",
      "jaccard_scores:  {'train': {'KNN': 1.0, 'DT': 0, 'SVM': 0, 'LR': 0, 'EN_HARD': 0, 'EN_SOFT': 0}, 'test': {'KNN': 0.7597, 'DT': 0, 'SVM': 0, 'LR': 0, 'EN_HARD': 0, 'EN_SOFT': 0}}\n"
     ]
    }
   ],
   "source": [
    "#TO DO:\n",
    "#train lại model với các param tối ưu đã tìm được ở phía trên\n",
    "\n",
    "knn_model = KNeighborsClassifier(n_neighbors = clf.best_params_[\"n_neighbors\"], \n",
    "                                weights = clf.best_params_[\"weights\"],\n",
    "                                p = clf.best_params_[\"p\"]).fit(X_train, y_train)\n",
    "yhat_train_knn = knn_model.predict(X_train)\n",
    "yhat_test_knn = knn_model.predict(X_test)\n",
    "\n",
    "f1_scores[\"train\"][\"KNN\"] = round(f1_score(y_train, yhat_train_knn), 4)\n",
    "f1_scores[\"test\"][\"KNN\"] = round(f1_score(y_test, yhat_test_knn), 4)\n",
    "\n",
    "jaccard_scores[\"train\"][\"KNN\"] = round(jaccard_similarity_score(y_train, yhat_train_knn), 4)\n",
    "jaccard_scores[\"test\"][\"KNN\"] = round(jaccard_similarity_score(y_test, yhat_test_knn), 4)\n",
    "\n",
    "print('f1_scores: ', f1_scores)\n",
    "print('\\n')\n",
    "print('jaccard_scores: ', jaccard_scores)"
   ]
  },
  {
   "cell_type": "markdown",
   "metadata": {
    "id": "NXIl2GGLM1lE"
   },
   "source": [
    "# Decision Tree"
   ]
  },
  {
   "cell_type": "markdown",
   "metadata": {
    "id": "kW11u1k6M1lF"
   },
   "source": [
    "### 13, 14. Perform task 11 and 12 on the DT model.\n",
    "\n",
    "Hint: Using GridSearchCV in sklearn.model_selection.\n",
    "\n",
    "**Warning**: You should not use the test data for finding the best parameters.\n",
    "\n",
    "**Requirement**: F1 score on test data has to higher than **0.6**, the Jaccard similarity score must be higher than **0.73**."
   ]
  },
  {
   "cell_type": "code",
   "execution_count": 18,
   "metadata": {
    "id": "CnE8pvjvM1lG"
   },
   "outputs": [],
   "source": [
    "from sklearn import tree"
   ]
  },
  {
   "cell_type": "code",
   "execution_count": 19,
   "metadata": {
    "id": "RPdHH2HiM1lI"
   },
   "outputs": [
    {
     "name": "stdout",
     "output_type": "stream",
     "text": [
      "{'criterion': 'entropy', 'max_depth': 9, 'max_features': 7, 'min_samples_leaf': 50}\n"
     ]
    }
   ],
   "source": [
    "#TO DO:\n",
    "\n",
    "DT = tree.DecisionTreeClassifier()\n",
    "\n",
    "depths = np.arange(1,22,2)\n",
    "num_leafs = [1, 5, 10, 15, 20, 30, 40, 50, 60]\n",
    "max_features = np.arange(1,22,2)\n",
    "\n",
    "params = {\n",
    "    \"criterion\": [\"gini\", \"entropy\"], #The function to measure the quality of a split.\n",
    "    \"max_depth\": depths, #The maximum depth of the tree\n",
    "    \"min_samples_leaf\": num_leafs, \n",
    "    #The minimum number of samples required to be at a leaf node.\n",
    "    \"max_features\": max_features\n",
    "    #the number of features to consider each time to make the split decision\n",
    "    \n",
    "}\n",
    "clf = GridSearchCV(estimator=DT,           \n",
    "                  param_grid=params, \n",
    "                  cv=5)\n",
    "clf.fit(X_train, y_train)\n",
    "\n",
    "print(clf.best_params_)\n",
    "\n"
   ]
  },
  {
   "cell_type": "code",
   "execution_count": 20,
   "metadata": {},
   "outputs": [
    {
     "name": "stdout",
     "output_type": "stream",
     "text": [
      "\n",
      "\n",
      "f1_scores:  {'train': {'KNN': 1.0, 'DT': 0.71, 'SVM': 0, 'LR': 0, 'EN_HARD': 0, 'EN_SOFT': 0}, 'test': {'KNN': 0.6408, 'DT': 0.7087, 'SVM': 0, 'LR': 0, 'EN_HARD': 0, 'EN_SOFT': 0}}\n",
      "\n",
      "\n",
      "jaccard_scores:  {'train': {'KNN': 1.0, 'DT': 0.7818, 'SVM': 0, 'LR': 0, 'EN_HARD': 0, 'EN_SOFT': 0}, 'test': {'KNN': 0.7597, 'DT': 0.7597, 'SVM': 0, 'LR': 0, 'EN_HARD': 0, 'EN_SOFT': 0}}\n"
     ]
    }
   ],
   "source": [
    "DT_model = clf.best_estimator_\n",
    "\n",
    "yhat_train_tree = DT_model.predict(X_train)\n",
    "yhat_test_tree = DT_model.predict(X_test)\n",
    "\n",
    "f1_scores[\"train\"][\"DT\"] = round(f1_score(y_train, yhat_train_tree), 4)\n",
    "f1_scores[\"test\"][\"DT\"] = round(f1_score(y_test, yhat_test_tree), 4)\n",
    "\n",
    "jaccard_scores[\"train\"][\"DT\"] = round(jaccard_similarity_score(y_train, yhat_train_tree), 4)\n",
    "jaccard_scores[\"test\"][\"DT\"] = round(jaccard_similarity_score(y_test, yhat_test_tree), 4)\n",
    "\n",
    "print('\\n')\n",
    "print('f1_scores: ', f1_scores)\n",
    "print('\\n')\n",
    "print('jaccard_scores: ', jaccard_scores)\n"
   ]
  },
  {
   "cell_type": "markdown",
   "metadata": {
    "id": "0ZjQch2RM1lL"
   },
   "source": [
    "# Additional Question: \n",
    "### Interpret and explain the parameters you have chosen to fine tune in DT algorithm.\n",
    "Type your answer in the cell bellow as the markdown format."
   ]
  },
  {
   "cell_type": "markdown",
   "metadata": {
    "id": "g4aBT64WM1lL"
   },
   "source": [
    "### TO DO:\n"
   ]
  },
  {
   "cell_type": "markdown",
   "metadata": {
    "id": "5j2yBhnrM1lM",
    "outputId": "57d49035-a2ba-49f5-ed4d-407039ec79c7"
   },
   "source": [
    "criterion: measure the quality (chất lượng) of a split.\n",
    "(“gini” for the Gini impurity and “entropy” for the information gain)\n",
    "\n",
    "max_depth: The maximum depth of the tree\n",
    "\n",
    "min_samples_leaf: The minimum number of samples required to be at a leaf node\n",
    "\n",
    "max_features: the number of features to consider each time to make the split decision\n"
   ]
  },
  {
   "cell_type": "markdown",
   "metadata": {
    "id": "nd4a59C6M1lQ"
   },
   "source": [
    "# Support Vector Machine"
   ]
  },
  {
   "cell_type": "markdown",
   "metadata": {
    "id": "sn_wfdWpM1lR"
   },
   "source": [
    "### 15, 16. Perform task 11 and 12 on SVM models.\n",
    "\n",
    "Hint: Using GridSearchCV in sklearn.model_selection.\n",
    "\n",
    "**Warning**: You should not use the test data for finding the best parameters.\n",
    "\n",
    "**Requirement**: F1 score on test data has to higher than **0.62**, Jaccard similarity score must be higher than **0.75**."
   ]
  },
  {
   "cell_type": "code",
   "execution_count": 21,
   "metadata": {
    "id": "WUwo79EMM1lR"
   },
   "outputs": [],
   "source": [
    "from sklearn.svm import SVC"
   ]
  },
  {
   "cell_type": "code",
   "execution_count": 22,
   "metadata": {
    "id": "JMxZtQa8M1lT"
   },
   "outputs": [],
   "source": [
    "#TO DO:\n",
    "\n",
    "svm = SVC(probability = True)\n",
    "\n",
    "C = np.arange(0.1, 2, 0.1) #Regularization parameter, The penalty\n",
    "gamma = np.arange(0.01, 0.1, 0.01) #define curvature \n",
    "kernel = [\"linear\", \"poly\", \"rbf\", \"sigmoid\"]\n",
    "#class_weight = ['balanced']\n",
    "\n",
    "params = {\n",
    "    \"C\" : C,\n",
    "    \"gamma\" : gamma,\n",
    "    \"kernel\" : kernel\n",
    "    #\"class_weight\" : class_weight\n",
    "    \n",
    "}\n",
    "clf = GridSearchCV(estimator=svm,           \n",
    "                  param_grid=params, \n",
    "                  cv=5)\n",
    "\n",
    "#cách speed up SVM???"
   ]
  },
  {
   "cell_type": "code",
   "execution_count": 23,
   "metadata": {},
   "outputs": [
    {
     "data": {
      "text/plain": [
       "GridSearchCV(cv=5, error_score=nan,\n",
       "             estimator=SVC(C=1.0, break_ties=False, cache_size=200,\n",
       "                           class_weight=None, coef0=0.0,\n",
       "                           decision_function_shape='ovr', degree=3,\n",
       "                           gamma='scale', kernel='rbf', max_iter=-1,\n",
       "                           probability=True, random_state=None, shrinking=True,\n",
       "                           tol=0.001, verbose=False),\n",
       "             iid='deprecated', n_jobs=None,\n",
       "             param_grid={'C': array([ 1, 11, 21, 31, 41, 51]),\n",
       "                         'kernel': ['linear', 'sigmoid']},\n",
       "             pre_dispatch='2*n_jobs', refit=True, return_train_score=False,\n",
       "             scoring=None, verbose=0)"
      ]
     },
     "execution_count": 23,
     "metadata": {},
     "output_type": "execute_result"
    }
   ],
   "source": [
    "clf.fit(X_train, y_train)\n",
    "\n"
   ]
  },
  {
   "cell_type": "code",
   "execution_count": 24,
   "metadata": {},
   "outputs": [
    {
     "name": "stdout",
     "output_type": "stream",
     "text": [
      "{'C': 21, 'kernel': 'linear'}\n"
     ]
    }
   ],
   "source": [
    "print(clf.best_params_)\n",
    "\n",
    "svm_model = clf.best_estimator_\n",
    "\n",
    "yhat_train_svm = svm_model.predict(X_train)\n",
    "yhat_test_svm = svm_model.predict(X_test)"
   ]
  },
  {
   "cell_type": "code",
   "execution_count": 25,
   "metadata": {},
   "outputs": [
    {
     "name": "stdout",
     "output_type": "stream",
     "text": [
      "\n",
      "\n",
      "f1_scores:  {'train': {'KNN': 1.0, 'DT': 0.71, 'SVM': 0.6319, 'LR': 0, 'EN_HARD': 0, 'EN_SOFT': 0}, 'test': {'KNN': 0.6408, 'DT': 0.7087, 'SVM': 0.6598, 'LR': 0, 'EN_HARD': 0, 'EN_SOFT': 0}}\n",
      "\n",
      "\n",
      "jaccard_scores:  {'train': {'KNN': 1.0, 'DT': 0.7818, 'SVM': 0.7818, 'LR': 0, 'EN_HARD': 0, 'EN_SOFT': 0}, 'test': {'KNN': 0.7597, 'DT': 0.7597, 'SVM': 0.7857, 'LR': 0, 'EN_HARD': 0, 'EN_SOFT': 0}}\n"
     ]
    }
   ],
   "source": [
    "\n",
    "f1_scores[\"train\"][\"SVM\"] = round(f1_score(y_train, yhat_train_svm), 4)\n",
    "f1_scores[\"test\"][\"SVM\"] = round(f1_score(y_test, yhat_test_svm), 4)\n",
    "\n",
    "jaccard_scores[\"train\"][\"SVM\"] = round(jaccard_similarity_score(y_train, yhat_train_svm), 4)\n",
    "jaccard_scores[\"test\"][\"SVM\"] = round(jaccard_similarity_score(y_test, yhat_test_svm), 4)\n",
    "\n",
    "print('\\n')\n",
    "print('f1_scores: ', f1_scores)\n",
    "print('\\n')\n",
    "print('jaccard_scores: ', jaccard_scores)"
   ]
  },
  {
   "cell_type": "markdown",
   "metadata": {
    "id": "03XgTdoPM1lW"
   },
   "source": [
    "# Additional Question: \n",
    "### Interpret and explain the parameters you have chosen to fine tune in SVM algorithm.\n",
    "Type your answer in the cell bellow as the markdown format."
   ]
  },
  {
   "cell_type": "markdown",
   "metadata": {
    "id": "wz0N8-CIM1lW"
   },
   "source": [
    "### TO DO:\n"
   ]
  },
  {
   "cell_type": "markdown",
   "metadata": {
    "id": "z0eWOaUaM1lX",
    "outputId": "160ada70-d335-4496-8264-65913288a7b6"
   },
   "source": [
    "C : Regularization parameter, increasing C -> decreasing margin\n",
    "\n",
    "kernel: function to map data to hyper-dimension\n",
    "(‘linear’, ‘poly’, ‘rbf’, ‘sigmoid’, ‘precomputed')\n",
    "\n",
    "gamma: define curvature (xác định độ cong của đường/mặt chia cách)\n",
    "(Kernel coefficient for ‘rbf’, ‘poly’ and ‘sigmoid)"
   ]
  },
  {
   "cell_type": "markdown",
   "metadata": {
    "id": "xRVAKHEkM1la"
   },
   "source": [
    "# Logistic Regression"
   ]
  },
  {
   "cell_type": "markdown",
   "metadata": {
    "id": "nTQkBQIXM1la"
   },
   "source": [
    "### 17, 18. Perform task 11 and 12 on Logistic Regression model.\n",
    "\n",
    "Hint: Using GridSearchCV in sklearn.model_selection.\n",
    "\n",
    "**Warning**: You should not use the test data for finding the best parameters.\n",
    "\n",
    "**Requirement**: F1 score on test data has to higher than **0.63**, Jaccard similarity score must be higher than **0.75**."
   ]
  },
  {
   "cell_type": "code",
   "execution_count": 26,
   "metadata": {
    "id": "cWFYayQLM1lb"
   },
   "outputs": [],
   "source": [
    "from sklearn.linear_model import LogisticRegression"
   ]
  },
  {
   "cell_type": "code",
   "execution_count": 27,
   "metadata": {
    "id": "7szXdAHTM1lc"
   },
   "outputs": [
    {
     "name": "stdout",
     "output_type": "stream",
     "text": [
      "{'C': 2.7, 'fit_intercept': True, 'penalty': 'l2', 'solver': 'lbfgs'}\n"
     ]
    }
   ],
   "source": [
    "#TO DO:\n",
    "\n",
    "log_reg = LogisticRegression()\n",
    "\n",
    "penalty = [\"l1\", \"l2\", \"elasticnet\"] #Used to specify the norm used in the penalization\n",
    "fit_intercept = [True, False] #Specifies if a constant (a.k.a. bias or intercept) should be added to the decision function\n",
    "solver = [\"newton-cg\", \"lbfgs\", \"liblinear\", \"sag\", \"saga\"] #Algorithm to use in the optimization problem\n",
    "C = np.arange(0.1, 3, 0.1)\n",
    "\n",
    "params = {\n",
    "    \"C\" : C,\n",
    "    \"penalty\" : penalty,\n",
    "    \"solver\" : solver,\n",
    "    \"fit_intercept\": fit_intercept\n",
    "    \n",
    "}\n",
    "clf = GridSearchCV(estimator=log_reg,           \n",
    "                  param_grid=params, \n",
    "                  cv=5)\n",
    "clf.fit(X_train, y_train)\n",
    "\n",
    "print(clf.best_params_)\n",
    "\n",
    "\n"
   ]
  },
  {
   "cell_type": "code",
   "execution_count": 28,
   "metadata": {},
   "outputs": [
    {
     "name": "stdout",
     "output_type": "stream",
     "text": [
      "\n",
      "\n",
      "f1_scores:  {'train': {'KNN': 1.0, 'DT': 0.71, 'SVM': 0.6319, 'LR': 0.595, 'EN_HARD': 0, 'EN_SOFT': 0}, 'test': {'KNN': 0.6408, 'DT': 0.7087, 'SVM': 0.6598, 'LR': 0.6735, 'EN_HARD': 0, 'EN_SOFT': 0}}\n",
      "\n",
      "\n",
      "jaccard_scores:  {'train': {'KNN': 1.0, 'DT': 0.7818, 'SVM': 0.7818, 'LR': 0.7606, 'EN_HARD': 0, 'EN_SOFT': 0}, 'test': {'KNN': 0.7597, 'DT': 0.7597, 'SVM': 0.7857, 'LR': 0.7922, 'EN_HARD': 0, 'EN_SOFT': 0}}\n"
     ]
    }
   ],
   "source": [
    "LR_model = clf.best_estimator_\n",
    "\n",
    "yhat_train_LR = LR_model.predict(X_train)\n",
    "yhat_test_LR = LR_model.predict(X_test)\n",
    "\n",
    "f1_scores[\"train\"][\"LR\"] = round(f1_score(y_train, yhat_train_LR), 4)\n",
    "f1_scores[\"test\"][\"LR\"] = round(f1_score(y_test, yhat_test_LR), 4)\n",
    "\n",
    "jaccard_scores[\"train\"][\"LR\"] = round(jaccard_similarity_score(y_train, yhat_train_LR), 4)\n",
    "jaccard_scores[\"test\"][\"LR\"] = round(jaccard_similarity_score(y_test, yhat_test_LR), 4)\n",
    "\n",
    "print('\\n')\n",
    "print('f1_scores: ', f1_scores)\n",
    "print('\\n')\n",
    "print('jaccard_scores: ', jaccard_scores)"
   ]
  },
  {
   "cell_type": "markdown",
   "metadata": {
    "id": "pfPytCDYM1le"
   },
   "source": [
    "# Additional Question: \n",
    "### Interpret and explain the parameters you have chosen to fine tune in LR algorithm.\n",
    "Type your answer in the cell bellow as the markdown format."
   ]
  },
  {
   "cell_type": "markdown",
   "metadata": {
    "id": "RmPs5O5RM1lf"
   },
   "source": [
    "### TO DO:\n"
   ]
  },
  {
   "cell_type": "markdown",
   "metadata": {
    "id": "c4zNUUR_M1lg",
    "outputId": "598e4d30-b9a5-457a-b149-14a651ccff1a"
   },
   "source": [
    "penalty: Used to specify the norm used in the penalization\n",
    "(-> estimate RSS: là tổng bình phương của tất cả các sai lệch giữa các giá trị quan sát Y và các giá trị nhận được từ hàm hồi qui)\n",
    "\n",
    "solver: algorithm to be chose\n",
    "\n",
    "fit_intercept: decide whether an intercept should be added to the model\n"
   ]
  },
  {
   "cell_type": "markdown",
   "metadata": {
    "id": "xhThcwLYM1li"
   },
   "source": [
    "# Advanced part (15%  of the total score)"
   ]
  },
  {
   "cell_type": "markdown",
   "metadata": {
    "id": "eRc5JoN7M1lo"
   },
   "source": [
    "# Ensemble model"
   ]
  },
  {
   "cell_type": "markdown",
   "metadata": {
    "id": "8-eteyNxM1lo"
   },
   "source": [
    "### 19. Perform soft voting on the 4 above models (using the same setting for the 4 models as in previous steps.) \n",
    "**Hint**: Using VotingClassifier in sklearn.ensemble."
   ]
  },
  {
   "cell_type": "code",
   "execution_count": 29,
   "metadata": {
    "id": "G7FfposgM1lp"
   },
   "outputs": [],
   "source": [
    "from sklearn.ensemble import VotingClassifier"
   ]
  },
  {
   "cell_type": "code",
   "execution_count": 30,
   "metadata": {
    "id": "J-EjCxe6M1ls"
   },
   "outputs": [],
   "source": [
    "#TO DO:\n",
    "#create a dictionary of our models\n",
    "\n",
    "estimator = [(\"KNN\", knn_model),\n",
    "            (\"DT\", DT_model),\n",
    "            (\"SVM\", svm_model),\n",
    "            (\"LR\", LR_model)]\n",
    "\n",
    "#create our voting classifier, inputting our models\n",
    "\n",
    "vot_soft = VotingClassifier(estimators = estimator, voting = 'soft')\n",
    "vot_soft.fit(X_train, y_train)\n",
    "\n",
    "\n",
    "yhat_train_soft = vot_soft.predict(X_train)\n",
    "yhat_test_soft = vot_soft.predict(X_test)\n",
    "\n"
   ]
  },
  {
   "cell_type": "markdown",
   "metadata": {
    "id": "vZu5N_i3M1lu"
   },
   "source": [
    "### 20. Run the prediction on the ensembling model using soft voting on training data and test data, then calculate the f1 score and Jaccard similarity score and save it to f1_scores dict and jaccard_scores dict.¶\n",
    "\n",
    "**Requirement**: F1 score on test data must be higher than **0.66**, Jaccard similarity score must be higher than **0.78**."
   ]
  },
  {
   "cell_type": "code",
   "execution_count": 31,
   "metadata": {
    "id": "SeuL7a0rM1lu",
    "outputId": "d8bb60eb-eb8d-4bcc-d478-d96b8673e3bf"
   },
   "outputs": [
    {
     "name": "stdout",
     "output_type": "stream",
     "text": [
      "\n",
      "\n",
      "f1_scores:  {'train': {'KNN': 1.0, 'DT': 0.71, 'SVM': 0.6319, 'LR': 0.595, 'EN_HARD': 0, 'EN_SOFT': 0.8586}, 'test': {'KNN': 0.6408, 'DT': 0.7087, 'SVM': 0.6598, 'LR': 0.6735, 'EN_HARD': 0, 'EN_SOFT': 0.6667}}\n",
      "\n",
      "\n",
      "jaccard_scores:  {'train': {'KNN': 1.0, 'DT': 0.7818, 'SVM': 0.7818, 'LR': 0.7606, 'EN_HARD': 0, 'EN_SOFT': 0.9088}, 'test': {'KNN': 0.7597, 'DT': 0.7597, 'SVM': 0.7857, 'LR': 0.7922, 'EN_HARD': 0, 'EN_SOFT': 0.7922}}\n"
     ]
    }
   ],
   "source": [
    "#TO DO:\n",
    "f1_scores[\"train\"][\"EN_SOFT\"] = round(f1_score(y_train, yhat_train_soft), 4)\n",
    "f1_scores[\"test\"][\"EN_SOFT\"] = round(f1_score(y_test, yhat_test_soft), 4)\n",
    "\n",
    "jaccard_scores[\"train\"][\"EN_SOFT\"] = round(jaccard_similarity_score(y_train, yhat_train_soft), 4)\n",
    "jaccard_scores[\"test\"][\"EN_SOFT\"] = round(jaccard_similarity_score(y_test, yhat_test_soft), 4)\n",
    "\n",
    "print('\\n')\n",
    "print('f1_scores: ', f1_scores)\n",
    "print('\\n')\n",
    "print('jaccard_scores: ', jaccard_scores)"
   ]
  },
  {
   "cell_type": "markdown",
   "metadata": {
    "id": "d9vVirtTM1lw"
   },
   "source": [
    "### 21, 22. Perform task 19 and 20 using hard voting.\n",
    "Hint: Using GridSearchCV in sklearn.model_selection.\n",
    "\n",
    "**Warning**: You should not use the test data for finding the best parameters.\n",
    "\n",
    "**Requirement**: F1 score on test data must be higher than **0.57**, Jaccard similarity score must be higher than **0.73**."
   ]
  },
  {
   "cell_type": "code",
   "execution_count": 32,
   "metadata": {
    "id": "0n-qRxd5M1lx"
   },
   "outputs": [],
   "source": [
    "#TO DO:\n",
    "#create a dictionary of our models\n",
    "\n",
    "estimator = [(\"KNN\", knn_model),\n",
    "            (\"DT\", DT_model),\n",
    "            (\"SVM\", svm_model),\n",
    "            (\"LR\", LR_model)]\n",
    "\n",
    "#create our voting classifier, inputting our models\n",
    "\n",
    "vot_hard = VotingClassifier(estimators = estimator, voting = 'hard')\n",
    "vot_hard.fit(X_train, y_train)\n",
    "\n",
    "\n",
    "yhat_train_hard = vot_soft.predict(X_train)\n",
    "yhat_test_hard = vot_soft.predict(X_test)\n"
   ]
  },
  {
   "cell_type": "code",
   "execution_count": 33,
   "metadata": {
    "id": "zxvqWZBcM1lz",
    "outputId": "b3b398e9-7c5b-45f9-eb87-df6c769ca9dd"
   },
   "outputs": [
    {
     "name": "stdout",
     "output_type": "stream",
     "text": [
      "\n",
      "\n",
      "f1_scores:  {'train': {'KNN': 1.0, 'DT': 0.71, 'SVM': 0.6319, 'LR': 0.595, 'EN_HARD': 0.8586, 'EN_SOFT': 0.8586}, 'test': {'KNN': 0.6408, 'DT': 0.7087, 'SVM': 0.6598, 'LR': 0.6735, 'EN_HARD': 0.6667, 'EN_SOFT': 0.6667}}\n",
      "\n",
      "\n",
      "jaccard_scores:  {'train': {'KNN': 1.0, 'DT': 0.7818, 'SVM': 0.7818, 'LR': 0.7606, 'EN_HARD': 0.9088, 'EN_SOFT': 0.9088}, 'test': {'KNN': 0.7597, 'DT': 0.7597, 'SVM': 0.7857, 'LR': 0.7922, 'EN_HARD': 0.7922, 'EN_SOFT': 0.7922}}\n"
     ]
    }
   ],
   "source": [
    "#TO DO:\n",
    "f1_scores[\"train\"][\"EN_HARD\"] = round(f1_score(y_train, yhat_train_hard), 4)\n",
    "f1_scores[\"test\"][\"EN_HARD\"] = round(f1_score(y_test, yhat_test_hard), 4)\n",
    "\n",
    "jaccard_scores[\"train\"][\"EN_HARD\"] = round(jaccard_similarity_score(y_train, yhat_train_hard), 4)\n",
    "jaccard_scores[\"test\"][\"EN_HARD\"] = round(jaccard_similarity_score(y_test, yhat_test_hard), 4)\n",
    "\n",
    "print('\\n')\n",
    "print('f1_scores: ', f1_scores)\n",
    "print('\\n')\n",
    "print('jaccard_scores: ', jaccard_scores)\n"
   ]
  },
  {
   "cell_type": "markdown",
   "metadata": {
    "id": "RmteU8YeM1l3"
   },
   "source": [
    "# Report\n",
    "You should be able to report the accuracy of the built model using different evaluation metrics:"
   ]
  },
  {
   "cell_type": "markdown",
   "metadata": {
    "id": "c3q0IThKM1l3"
   },
   "source": [
    "| Algorithm          | Jaccard-training | F1-score-training |Jaccard-testing | F1-score-testing |\n",
    "|--------------------|------------------|-------------------|----------------|------------------|\n",
    "| KNN                | ?                | ?                 |  ?             |  ?               |\n",
    "| Decision Tree      | ?                | ?                 |  ?             |  ?               |\n",
    "| SVM                | ?                | ?                 |  ?             |  ?               |\n",
    "| Logistic Regression| ?                | ?                 |  ?             |  ?               |\n",
    "| Hard Voting        | ?                | ?                 |  ?             |  ?               |\n",
    "| Soft Voting        | ?                | ?                 |  ?             |  ?               |\n"
   ]
  },
  {
   "cell_type": "markdown",
   "metadata": {
    "id": "PpqjW-eOM1l3"
   },
   "source": [
    "### 23. Create a data frame that describes the result as exactly as above."
   ]
  },
  {
   "cell_type": "code",
   "execution_count": 34,
   "metadata": {
    "id": "pI3_EsgtM1l4",
    "outputId": "4fe78116-eccf-4762-c9e8-74175b6381fa"
   },
   "outputs": [
    {
     "data": {
      "text/html": [
       "<div>\n",
       "<style scoped>\n",
       "    .dataframe tbody tr th:only-of-type {\n",
       "        vertical-align: middle;\n",
       "    }\n",
       "\n",
       "    .dataframe tbody tr th {\n",
       "        vertical-align: top;\n",
       "    }\n",
       "\n",
       "    .dataframe thead th {\n",
       "        text-align: right;\n",
       "    }\n",
       "</style>\n",
       "<table border=\"1\" class=\"dataframe\">\n",
       "  <thead>\n",
       "    <tr style=\"text-align: right;\">\n",
       "      <th></th>\n",
       "      <th>Algorithm</th>\n",
       "      <th>Jaccard-training</th>\n",
       "      <th>F1-score-training</th>\n",
       "      <th>Jaccard-testing</th>\n",
       "      <th>F1-score-testing</th>\n",
       "    </tr>\n",
       "  </thead>\n",
       "  <tbody>\n",
       "    <tr>\n",
       "      <th>0</th>\n",
       "      <td>KNN</td>\n",
       "      <td>1.0000</td>\n",
       "      <td>1.0000</td>\n",
       "      <td>0.7597</td>\n",
       "      <td>0.6408</td>\n",
       "    </tr>\n",
       "    <tr>\n",
       "      <th>1</th>\n",
       "      <td>Decision Tree</td>\n",
       "      <td>0.7818</td>\n",
       "      <td>0.7100</td>\n",
       "      <td>0.7597</td>\n",
       "      <td>0.7087</td>\n",
       "    </tr>\n",
       "    <tr>\n",
       "      <th>2</th>\n",
       "      <td>SVM</td>\n",
       "      <td>0.7818</td>\n",
       "      <td>0.6319</td>\n",
       "      <td>0.7857</td>\n",
       "      <td>0.6598</td>\n",
       "    </tr>\n",
       "    <tr>\n",
       "      <th>3</th>\n",
       "      <td>Logistic Regression</td>\n",
       "      <td>0.7606</td>\n",
       "      <td>0.5950</td>\n",
       "      <td>0.7922</td>\n",
       "      <td>0.6735</td>\n",
       "    </tr>\n",
       "    <tr>\n",
       "      <th>4</th>\n",
       "      <td>Hard Voting</td>\n",
       "      <td>0.9088</td>\n",
       "      <td>0.8586</td>\n",
       "      <td>0.7922</td>\n",
       "      <td>0.6667</td>\n",
       "    </tr>\n",
       "    <tr>\n",
       "      <th>5</th>\n",
       "      <td>Soft Voting</td>\n",
       "      <td>0.9088</td>\n",
       "      <td>0.8586</td>\n",
       "      <td>0.7922</td>\n",
       "      <td>0.6667</td>\n",
       "    </tr>\n",
       "  </tbody>\n",
       "</table>\n",
       "</div>"
      ],
      "text/plain": [
       "             Algorithm  Jaccard-training  F1-score-training  Jaccard-testing  \\\n",
       "0                  KNN            1.0000             1.0000           0.7597   \n",
       "1        Decision Tree            0.7818             0.7100           0.7597   \n",
       "2                  SVM            0.7818             0.6319           0.7857   \n",
       "3  Logistic Regression            0.7606             0.5950           0.7922   \n",
       "4          Hard Voting            0.9088             0.8586           0.7922   \n",
       "5          Soft Voting            0.9088             0.8586           0.7922   \n",
       "\n",
       "   F1-score-testing  \n",
       "0            0.6408  \n",
       "1            0.7087  \n",
       "2            0.6598  \n",
       "3            0.6735  \n",
       "4            0.6667  \n",
       "5            0.6667  "
      ]
     },
     "execution_count": 34,
     "metadata": {},
     "output_type": "execute_result"
    }
   ],
   "source": [
    "#TO DO:\n",
    "d = {\n",
    "    \"Jaccard-training\": jaccard_scores['train'],\n",
    "    \"F1-score-training\": f1_scores['train'],\n",
    "    \"Jaccard-testing\": jaccard_scores['test'],\n",
    "    \"F1-score-testing\": f1_scores['test'],\n",
    "    }\n",
    "\n",
    "algo_list = [\"KNN\", \"Decision Tree\", \"SVM\", \"Logistic Regression\", \"Hard Voting\", \"Soft Voting\"]\n",
    "df = pd.DataFrame(d).reset_index().drop(columns='index')\n",
    "df.insert(0, \"Algorithm\", algo_list)\n",
    "df"
   ]
  },
  {
   "cell_type": "markdown",
   "metadata": {
    "id": "TYifTRP7M1l5"
   },
   "source": [
    "# Additional Question: \n",
    "### Are ensemble methods always better than a single model? If not, explain why?\n",
    "Type your answer in the cell bellow as the markdown format.\n",
    "\t"
   ]
  },
  {
   "cell_type": "markdown",
   "metadata": {
    "id": "450BrJ44M1l6"
   },
   "source": [
    "### TO DO:\n",
    "Ans: Ensemble methods is not always better than a single model, neither the best nor the worst. Because it based on voting and it maybe the majority of votes is wrong which leads to a wrong result. Btw, it's still a stable model."
   ]
  }
 ],
 "metadata": {
  "colab": {
   "collapsed_sections": [
    "2yXSkeUjM1kr",
    "qaJt1GeEM1lA",
    "450BrJ44M1l6"
   ],
   "name": "DSP303x_01_EN_2_Starter_Code.ipynb",
   "provenance": []
  },
  "kernelspec": {
   "display_name": "Python 3",
   "language": "python",
   "name": "python3"
  },
  "language_info": {
   "codemirror_mode": {
    "name": "ipython",
    "version": 3
   },
   "file_extension": ".py",
   "mimetype": "text/x-python",
   "name": "python",
   "nbconvert_exporter": "python",
   "pygments_lexer": "ipython3",
   "version": "3.8.5"
  }
 },
 "nbformat": 4,
 "nbformat_minor": 1
}
